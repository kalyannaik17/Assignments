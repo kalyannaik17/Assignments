{
  "nbformat": 4,
  "nbformat_minor": 0,
  "metadata": {
    "colab": {
      "provenance": [],
      "authorship_tag": "ABX9TyMfUnYx7ot0Apee3qbUmhrY",
      "include_colab_link": true
    },
    "kernelspec": {
      "name": "python3",
      "display_name": "Python 3"
    },
    "language_info": {
      "name": "python"
    }
  },
  "cells": [
    {
      "cell_type": "markdown",
      "metadata": {
        "id": "view-in-github",
        "colab_type": "text"
      },
      "source": [
        "<a href=\"https://colab.research.google.com/github/kalyannaik17/Assignments/blob/main/day1_assignment.ipynb\" target=\"_parent\"><img src=\"https://colab.research.google.com/assets/colab-badge.svg\" alt=\"Open In Colab\"/></a>"
      ]
    },
    {
      "cell_type": "code",
      "execution_count": 1,
      "metadata": {
        "colab": {
          "base_uri": "https://localhost:8080/"
        },
        "id": "iwN4DVw79PeY",
        "outputId": "cc997ea5-2b96-4a9c-a05b-f2e59f9057e9"
      },
      "outputs": [
        {
          "output_type": "stream",
          "name": "stdout",
          "text": [
            "<class 'int'> 25\n",
            "<class 'float'> 12.5\n",
            "<class 'str'> Hello\n",
            "<class 'bool'> True\n"
          ]
        }
      ],
      "source": [
        "a = 25  # Integer\n",
        "b = 12.5  # Float\n",
        "c = \"Hello\"  # String\n",
        "d = True  # Boolean\n",
        "\n",
        "print(type(a), a)\n",
        "print(type(b), b)\n",
        "print(type(c), c)\n",
        "print(type(d), d)"
      ]
    },
    {
      "cell_type": "code",
      "source": [],
      "metadata": {
        "id": "bA87G4mD9SIR"
      },
      "execution_count": null,
      "outputs": []
    }
  ]
}