{
  "nbformat": 4,
  "nbformat_minor": 0,
  "metadata": {
    "colab": {
      "provenance": [],
      "authorship_tag": "ABX9TyOfySN8U1a0GDtqBn6qedSk",
      "include_colab_link": true
    },
    "kernelspec": {
      "name": "python3",
      "display_name": "Python 3"
    },
    "language_info": {
      "name": "python"
    }
  },
  "cells": [
    {
      "cell_type": "markdown",
      "metadata": {
        "id": "view-in-github",
        "colab_type": "text"
      },
      "source": [
        "<a href=\"https://colab.research.google.com/github/kalyannaik17/Assignments/blob/main/day4_assignment.ipynb\" target=\"_parent\"><img src=\"https://colab.research.google.com/assets/colab-badge.svg\" alt=\"Open In Colab\"/></a>"
      ]
    },
    {
      "cell_type": "code",
      "execution_count": 1,
      "metadata": {
        "colab": {
          "base_uri": "https://localhost:8080/"
        },
        "id": "hQw3DxcVDnzf",
        "outputId": "c77b0a0a-dad6-4feb-da46-e0d2cf9b52dd"
      },
      "outputs": [
        {
          "output_type": "stream",
          "name": "stdout",
          "text": [
            "The sum of all even numbers between 1 and 10 is: 30\n"
          ]
        }
      ],
      "source": [
        "\n",
        "def sum_of_evens(n):\n",
        "    if n <= 0:\n",
        "        return\n",
        "    even_sum = sum(i for i in range(2, n + 1, 2))\n",
        "    return even_sum\n",
        "n = 10\n",
        "result = sum_of_evens(n)\n",
        "print(f\"The sum of all even numbers between 1 and {n} is: {result}\")"
      ]
    },
    {
      "cell_type": "code",
      "source": [],
      "metadata": {
        "id": "ZvXT9mUpDuxT"
      },
      "execution_count": null,
      "outputs": []
    }
  ]
}