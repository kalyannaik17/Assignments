{
  "nbformat": 4,
  "nbformat_minor": 0,
  "metadata": {
    "colab": {
      "provenance": [],
      "authorship_tag": "ABX9TyOBQebPNpyBKhiJrV/k91UU",
      "include_colab_link": true
    },
    "kernelspec": {
      "name": "python3",
      "display_name": "Python 3"
    },
    "language_info": {
      "name": "python"
    }
  },
  "cells": [
    {
      "cell_type": "markdown",
      "metadata": {
        "id": "view-in-github",
        "colab_type": "text"
      },
      "source": [
        "<a href=\"https://colab.research.google.com/github/kalyannaik17/Assignments/blob/main/day3_assignment.ipynb\" target=\"_parent\"><img src=\"https://colab.research.google.com/assets/colab-badge.svg\" alt=\"Open In Colab\"/></a>"
      ]
    },
    {
      "cell_type": "code",
      "execution_count": 1,
      "metadata": {
        "colab": {
          "base_uri": "https://localhost:8080/"
        },
        "id": "YMvmsTRp-NDW",
        "outputId": "7e357eb2-5a46-47cd-c5a5-d74bd7b28ac1"
      },
      "outputs": [
        {
          "output_type": "stream",
          "name": "stdout",
          "text": [
            "Average Marks: 88.33\n",
            "Grade: B\n"
          ]
        }
      ],
      "source": [
        "\n",
        "a1= 85\n",
        "b1= 92\n",
        "c1= 88\n",
        "d1= (a1 + b1+ c1) / 3\n",
        "if d1 >= 90:\n",
        "    grade = \"Grade: A\"\n",
        "elif 80 <= d1< 90:\n",
        "    grade = \"Grade: B\"\n",
        "elif 70 <= d1 < 80:\n",
        "    grade = \"Grade: C\"\n",
        "else:\n",
        "    grade = \"Grade: Fail\"\n",
        "print(f\"Average Marks: {d1:.2f}\")\n",
        "print(grade)"
      ]
    },
    {
      "cell_type": "code",
      "source": [],
      "metadata": {
        "id": "CfO0WQ5jDLsa"
      },
      "execution_count": null,
      "outputs": []
    }
  ]
}