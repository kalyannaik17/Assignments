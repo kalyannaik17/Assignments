{
  "nbformat": 4,
  "nbformat_minor": 0,
  "metadata": {
    "colab": {
      "provenance": [],
      "authorship_tag": "ABX9TyO2oHWcFv8wgek5IqdnnjMp",
      "include_colab_link": true
    },
    "kernelspec": {
      "name": "python3",
      "display_name": "Python 3"
    },
    "language_info": {
      "name": "python"
    }
  },
  "cells": [
    {
      "cell_type": "markdown",
      "metadata": {
        "id": "view-in-github",
        "colab_type": "text"
      },
      "source": [
        "<a href=\"https://colab.research.google.com/github/kalyannaik17/Assignments/blob/main/day2_assignment.ipynb\" target=\"_parent\"><img src=\"https://colab.research.google.com/assets/colab-badge.svg\" alt=\"Open In Colab\"/></a>"
      ]
    },
    {
      "cell_type": "code",
      "execution_count": 1,
      "metadata": {
        "colab": {
          "base_uri": "https://localhost:8080/"
        },
        "id": "qR4hLMjx9wOM",
        "outputId": "14940702-110e-40b3-e6dd-8c71f1d83ef5"
      },
      "outputs": [
        {
          "output_type": "stream",
          "name": "stdout",
          "text": [
            "20\n",
            "50\n",
            "apple\n",
            "date\n",
            "3\n",
            "5\n"
          ]
        }
      ],
      "source": [
        "#list\n",
        "list= [10, 20, 30, 40, 50]\n",
        "print(list[1])\n",
        "print(list[-1])\n",
        "#tuple\n",
        "tuple = ('apple', 'banana', 'cherry', 'date', 'fig')\n",
        "print(tuple[0])\n",
        "print(tuple[3])\n",
        "#dict\n",
        "dict = {'a': 1, 'b': 2, 'c': 3, 'd': 4, 'e': 5}\n",
        "print(dict['c'])\n",
        "print(dict.get('e'))"
      ]
    },
    {
      "cell_type": "code",
      "source": [],
      "metadata": {
        "id": "UFoNcdbU91bm"
      },
      "execution_count": null,
      "outputs": []
    }
  ]
}