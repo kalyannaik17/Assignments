{
  "nbformat": 4,
  "nbformat_minor": 0,
  "metadata": {
    "colab": {
      "provenance": [],
      "authorship_tag": "ABX9TyNyv2UH6vo89xLTmj5QozoQ",
      "include_colab_link": true
    },
    "kernelspec": {
      "name": "python3",
      "display_name": "Python 3"
    },
    "language_info": {
      "name": "python"
    }
  },
  "cells": [
    {
      "cell_type": "markdown",
      "metadata": {
        "id": "view-in-github",
        "colab_type": "text"
      },
      "source": [
        "<a href=\"https://colab.research.google.com/github/kalyannaik17/Assignments/blob/main/day6_assignment.ipynb\" target=\"_parent\"><img src=\"https://colab.research.google.com/assets/colab-badge.svg\" alt=\"Open In Colab\"/></a>"
      ]
    },
    {
      "cell_type": "code",
      "execution_count": 1,
      "metadata": {
        "colab": {
          "base_uri": "https://localhost:8080/"
        },
        "id": "qKByQjXyEEJ4",
        "outputId": "b3239785-16fb-41b0-e638-2699bb0aa42d"
      },
      "outputs": [
        {
          "output_type": "stream",
          "name": "stdout",
          "text": [
            "    Name  Age Department  Salary\n",
            "0   John   28         HR   45000\n",
            "1  Alice   34         IT   60000\n",
            "2    Bob   23  Marketing   35000\n",
            "3  Diana   29    Finance   50000\n",
            "First 2 rows of the DataFrame:\n",
            "   Employee_ID   Name  Age  Salary\n",
            "0            1  Alice   23   50000\n",
            "1            2    Bob   30   60000\n",
            "\n",
            "Average Salary of employees: 56000.0\n",
            "\n",
            "Employees older than 25:\n",
            "   Employee_ID     Name  Age  Salary   Bonus\n",
            "1            2      Bob   30   60000  6000.0\n",
            "2            3  Charlie   28   55000  5500.0\n",
            "3            4    David   35   70000  7000.0\n"
          ]
        }
      ],
      "source": [
        "# 1 question\n",
        "\n",
        "import pandas as pd\n",
        "data = {\n",
        "    'Name': ['John', 'Alice', 'Bob', 'Diana'],\n",
        "    'Age': [28, 34, 23, 29],\n",
        "    'Department': ['HR', 'IT', 'Marketing', 'Finance'],\n",
        "    'Salary': [45000, 60000, 35000, 50000]\n",
        "}\n",
        "df = pd.DataFrame(data)\n",
        "print(df)\n",
        "\n",
        "\n",
        "# 2 question\n",
        "import pandas as pd\n",
        "data = {\n",
        "    'Employee_ID': [1, 2, 3, 4, 5],\n",
        "    'Name': ['Alice', 'Bob', 'Charlie', 'David', 'Eve'],\n",
        "    'Age': [23, 30, 28, 35, 22],\n",
        "    'Salary': [50000, 60000, 55000, 70000, 45000]\n",
        "}\n",
        "df = pd.DataFrame(data)\n",
        "print(\"First 2 rows of the DataFrame:\")\n",
        "print(df.head(2))\n",
        "df['Bonus'] = df['Salary'] * 0.10\n",
        "average_salary = df['Salary'].mean()\n",
        "print(\"\\nAverage Salary of employees:\", average_salary)\n",
        "filtered_df = df[df['Age'] > 25]\n",
        "print(\"\\nEmployees older than 25:\")\n",
        "print(filtered_df)"
      ]
    },
    {
      "cell_type": "code",
      "source": [],
      "metadata": {
        "id": "Z1RpQxOgEFM7"
      },
      "execution_count": null,
      "outputs": []
    }
  ]
}